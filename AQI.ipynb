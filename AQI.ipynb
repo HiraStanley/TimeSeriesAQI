{
 "cells": [
  {
   "cell_type": "code",
   "execution_count": 2,
   "id": "44b56e2f-c5c0-4c58-82a2-4889aef4f23b",
   "metadata": {},
   "outputs": [],
   "source": [
    "import pandas as pd\n",
    "import glob"
   ]
  },
  {
   "cell_type": "code",
   "execution_count": 4,
   "id": "43ae6f23-ff11-4f1a-891a-037c4fa0e388",
   "metadata": {},
   "outputs": [],
   "source": [
    "file_paths = glob.glob('aqidaily*.csv')"
   ]
  },
  {
   "cell_type": "code",
   "execution_count": 6,
   "id": "251ae3d2-fe40-494b-aac9-864be42388ff",
   "metadata": {},
   "outputs": [],
   "source": [
    "dfs = []"
   ]
  },
  {
   "cell_type": "code",
   "execution_count": 8,
   "id": "a4f763ee-fad2-45d4-a003-fa3c5200c152",
   "metadata": {},
   "outputs": [
    {
     "data": {
      "text/plain": [
       "['aqidaily2000.csv',\n",
       " 'aqidaily2001.csv',\n",
       " 'aqidaily2002.csv',\n",
       " 'aqidaily2003.csv',\n",
       " 'aqidaily2004.csv',\n",
       " 'aqidaily2005.csv',\n",
       " 'aqidaily2006.csv',\n",
       " 'aqidaily2007.csv',\n",
       " 'aqidaily2008.csv',\n",
       " 'aqidaily2009.csv',\n",
       " 'aqidaily2010.csv',\n",
       " 'aqidaily2011.csv',\n",
       " 'aqidaily2012.csv',\n",
       " 'aqidaily2013.csv',\n",
       " 'aqidaily2014.csv',\n",
       " 'aqidaily2015.csv',\n",
       " 'aqidaily2016.csv',\n",
       " 'aqidaily2017.csv',\n",
       " 'aqidaily2018.csv',\n",
       " 'aqidaily2019.csv',\n",
       " 'aqidaily2020.csv',\n",
       " 'aqidaily2021.csv',\n",
       " 'aqidaily2022.csv',\n",
       " 'aqidaily2023.csv',\n",
       " 'aqidaily2024.csv']"
      ]
     },
     "execution_count": 8,
     "metadata": {},
     "output_type": "execute_result"
    }
   ],
   "source": [
    "file_paths"
   ]
  },
  {
   "cell_type": "code",
   "execution_count": 10,
   "id": "8b4ff48d-1707-46fa-abdb-2f8673901a2d",
   "metadata": {},
   "outputs": [],
   "source": [
    "for file_path in file_paths:\n",
    "    df = pd.read_csv(file_path)\n",
    "    dfs.append(df)\n",
    "\n",
    "combined_df = pd.concat(dfs, ignore_index=True)"
   ]
  },
  {
   "cell_type": "code",
   "execution_count": 12,
   "id": "59940dbe-36ba-4524-bbc5-a4586b32e64c",
   "metadata": {},
   "outputs": [
    {
     "data": {
      "text/html": [
       "<div>\n",
       "<style scoped>\n",
       "    .dataframe tbody tr th:only-of-type {\n",
       "        vertical-align: middle;\n",
       "    }\n",
       "\n",
       "    .dataframe tbody tr th {\n",
       "        vertical-align: top;\n",
       "    }\n",
       "\n",
       "    .dataframe thead th {\n",
       "        text-align: right;\n",
       "    }\n",
       "</style>\n",
       "<table border=\"1\" class=\"dataframe\">\n",
       "  <thead>\n",
       "    <tr style=\"text-align: right;\">\n",
       "      <th></th>\n",
       "      <th>Date</th>\n",
       "      <th>Overall AQI Value</th>\n",
       "      <th>Main Pollutant</th>\n",
       "      <th>Site Name (of Overall AQI)</th>\n",
       "      <th>Site ID (of Overall AQI)</th>\n",
       "      <th>Source (of Overall AQI)</th>\n",
       "      <th>CO</th>\n",
       "      <th>Ozone</th>\n",
       "      <th>PM10</th>\n",
       "      <th>PM25</th>\n",
       "      <th>NO2</th>\n",
       "    </tr>\n",
       "  </thead>\n",
       "  <tbody>\n",
       "    <tr>\n",
       "      <th>0</th>\n",
       "      <td>01/01/2000</td>\n",
       "      <td>116</td>\n",
       "      <td>PM2.5</td>\n",
       "      <td>PS 59</td>\n",
       "      <td>36-061-0056</td>\n",
       "      <td>AQS</td>\n",
       "      <td>27</td>\n",
       "      <td>25</td>\n",
       "      <td>31</td>\n",
       "      <td>116</td>\n",
       "      <td>38</td>\n",
       "    </tr>\n",
       "    <tr>\n",
       "      <th>1</th>\n",
       "      <td>01/02/2000</td>\n",
       "      <td>115</td>\n",
       "      <td>PM2.5</td>\n",
       "      <td>NaN</td>\n",
       "      <td>36-061-0010</td>\n",
       "      <td>AQS</td>\n",
       "      <td>36</td>\n",
       "      <td>38</td>\n",
       "      <td>.</td>\n",
       "      <td>115</td>\n",
       "      <td>54</td>\n",
       "    </tr>\n",
       "    <tr>\n",
       "      <th>2</th>\n",
       "      <td>01/03/2000</td>\n",
       "      <td>91</td>\n",
       "      <td>PM2.5</td>\n",
       "      <td>NaN</td>\n",
       "      <td>36-061-0010</td>\n",
       "      <td>AQS</td>\n",
       "      <td>38</td>\n",
       "      <td>31</td>\n",
       "      <td>.</td>\n",
       "      <td>91</td>\n",
       "      <td>46</td>\n",
       "    </tr>\n",
       "    <tr>\n",
       "      <th>3</th>\n",
       "      <td>01/04/2000</td>\n",
       "      <td>68</td>\n",
       "      <td>PM2.5</td>\n",
       "      <td>PS 59</td>\n",
       "      <td>36-061-0056</td>\n",
       "      <td>AQS</td>\n",
       "      <td>30</td>\n",
       "      <td>31</td>\n",
       "      <td>.</td>\n",
       "      <td>68</td>\n",
       "      <td>42</td>\n",
       "    </tr>\n",
       "    <tr>\n",
       "      <th>4</th>\n",
       "      <td>01/05/2000</td>\n",
       "      <td>43</td>\n",
       "      <td>PM2.5</td>\n",
       "      <td>NaN</td>\n",
       "      <td>36-061-0010</td>\n",
       "      <td>AQS</td>\n",
       "      <td>22</td>\n",
       "      <td>24</td>\n",
       "      <td>.</td>\n",
       "      <td>43</td>\n",
       "      <td>42</td>\n",
       "    </tr>\n",
       "  </tbody>\n",
       "</table>\n",
       "</div>"
      ],
      "text/plain": [
       "         Date  Overall AQI Value Main Pollutant Site Name (of Overall AQI)  \\\n",
       "0  01/01/2000                116          PM2.5                      PS 59   \n",
       "1  01/02/2000                115          PM2.5                        NaN   \n",
       "2  01/03/2000                 91          PM2.5                        NaN   \n",
       "3  01/04/2000                 68          PM2.5                      PS 59   \n",
       "4  01/05/2000                 43          PM2.5                        NaN   \n",
       "\n",
       "  Site ID (of Overall AQI) Source (of Overall AQI)  CO Ozone PM10 PM25 NO2  \n",
       "0              36-061-0056                     AQS  27    25   31  116  38  \n",
       "1              36-061-0010                     AQS  36    38    .  115  54  \n",
       "2              36-061-0010                     AQS  38    31    .   91  46  \n",
       "3              36-061-0056                     AQS  30    31    .   68  42  \n",
       "4              36-061-0010                     AQS  22    24    .   43  42  "
      ]
     },
     "execution_count": 12,
     "metadata": {},
     "output_type": "execute_result"
    }
   ],
   "source": [
    "combined_df.head()"
   ]
  },
  {
   "cell_type": "code",
   "execution_count": 14,
   "id": "735cde97-1bc1-4011-9a2f-c661099de067",
   "metadata": {},
   "outputs": [
    {
     "data": {
      "text/html": [
       "<div>\n",
       "<style scoped>\n",
       "    .dataframe tbody tr th:only-of-type {\n",
       "        vertical-align: middle;\n",
       "    }\n",
       "\n",
       "    .dataframe tbody tr th {\n",
       "        vertical-align: top;\n",
       "    }\n",
       "\n",
       "    .dataframe thead th {\n",
       "        text-align: right;\n",
       "    }\n",
       "</style>\n",
       "<table border=\"1\" class=\"dataframe\">\n",
       "  <thead>\n",
       "    <tr style=\"text-align: right;\">\n",
       "      <th></th>\n",
       "      <th>Date</th>\n",
       "      <th>Overall AQI Value</th>\n",
       "      <th>Main Pollutant</th>\n",
       "      <th>Site Name (of Overall AQI)</th>\n",
       "      <th>Site ID (of Overall AQI)</th>\n",
       "      <th>Source (of Overall AQI)</th>\n",
       "      <th>CO</th>\n",
       "      <th>Ozone</th>\n",
       "      <th>PM10</th>\n",
       "      <th>PM25</th>\n",
       "      <th>NO2</th>\n",
       "    </tr>\n",
       "  </thead>\n",
       "  <tbody>\n",
       "    <tr>\n",
       "      <th>9127</th>\n",
       "      <td>12/27/2024</td>\n",
       "      <td>62</td>\n",
       "      <td>PM2.5</td>\n",
       "      <td>CCNY</td>\n",
       "      <td>36-061-0135</td>\n",
       "      <td>AirNow</td>\n",
       "      <td>7</td>\n",
       "      <td>7</td>\n",
       "      <td>NaN</td>\n",
       "      <td>62</td>\n",
       "      <td>NaN</td>\n",
       "    </tr>\n",
       "    <tr>\n",
       "      <th>9128</th>\n",
       "      <td>12/28/2024</td>\n",
       "      <td>63</td>\n",
       "      <td>PM2.5</td>\n",
       "      <td>CCNY</td>\n",
       "      <td>36-061-0135</td>\n",
       "      <td>AirNow</td>\n",
       "      <td>15</td>\n",
       "      <td>1</td>\n",
       "      <td>NaN</td>\n",
       "      <td>63</td>\n",
       "      <td>NaN</td>\n",
       "    </tr>\n",
       "    <tr>\n",
       "      <th>9129</th>\n",
       "      <td>12/29/2024</td>\n",
       "      <td>52</td>\n",
       "      <td>PM2.5</td>\n",
       "      <td>CCNY</td>\n",
       "      <td>36-061-0135</td>\n",
       "      <td>AirNow</td>\n",
       "      <td>13</td>\n",
       "      <td>32</td>\n",
       "      <td>NaN</td>\n",
       "      <td>52</td>\n",
       "      <td>NaN</td>\n",
       "    </tr>\n",
       "    <tr>\n",
       "      <th>9130</th>\n",
       "      <td>12/30/2024</td>\n",
       "      <td>36</td>\n",
       "      <td>PM2.5</td>\n",
       "      <td>Intermediate School 143</td>\n",
       "      <td>36-061-0115</td>\n",
       "      <td>AQS</td>\n",
       "      <td>3</td>\n",
       "      <td>29</td>\n",
       "      <td>NaN</td>\n",
       "      <td>36</td>\n",
       "      <td>NaN</td>\n",
       "    </tr>\n",
       "    <tr>\n",
       "      <th>9131</th>\n",
       "      <td>12/31/2024</td>\n",
       "      <td>42</td>\n",
       "      <td>PM2.5</td>\n",
       "      <td>Intermediate School 143</td>\n",
       "      <td>36-061-0115</td>\n",
       "      <td>AQS</td>\n",
       "      <td>3</td>\n",
       "      <td>21</td>\n",
       "      <td>NaN</td>\n",
       "      <td>42</td>\n",
       "      <td>NaN</td>\n",
       "    </tr>\n",
       "  </tbody>\n",
       "</table>\n",
       "</div>"
      ],
      "text/plain": [
       "            Date  Overall AQI Value Main Pollutant Site Name (of Overall AQI)  \\\n",
       "9127  12/27/2024                 62          PM2.5                       CCNY   \n",
       "9128  12/28/2024                 63          PM2.5                       CCNY   \n",
       "9129  12/29/2024                 52          PM2.5                       CCNY   \n",
       "9130  12/30/2024                 36          PM2.5    Intermediate School 143   \n",
       "9131  12/31/2024                 42          PM2.5    Intermediate School 143   \n",
       "\n",
       "     Site ID (of Overall AQI) Source (of Overall AQI)  CO Ozone PM10 PM25  NO2  \n",
       "9127              36-061-0135                  AirNow   7     7  NaN   62  NaN  \n",
       "9128              36-061-0135                  AirNow  15     1  NaN   63  NaN  \n",
       "9129              36-061-0135                  AirNow  13    32  NaN   52  NaN  \n",
       "9130              36-061-0115                     AQS   3    29  NaN   36  NaN  \n",
       "9131              36-061-0115                     AQS   3    21  NaN   42  NaN  "
      ]
     },
     "execution_count": 14,
     "metadata": {},
     "output_type": "execute_result"
    }
   ],
   "source": [
    "combined_df.tail()"
   ]
  },
  {
   "cell_type": "code",
   "execution_count": 16,
   "id": "2bbdc067-2ed9-4565-b2e9-c4abf2fc9598",
   "metadata": {},
   "outputs": [
    {
     "data": {
      "text/html": [
       "<div>\n",
       "<style scoped>\n",
       "    .dataframe tbody tr th:only-of-type {\n",
       "        vertical-align: middle;\n",
       "    }\n",
       "\n",
       "    .dataframe tbody tr th {\n",
       "        vertical-align: top;\n",
       "    }\n",
       "\n",
       "    .dataframe thead th {\n",
       "        text-align: right;\n",
       "    }\n",
       "</style>\n",
       "<table border=\"1\" class=\"dataframe\">\n",
       "  <thead>\n",
       "    <tr style=\"text-align: right;\">\n",
       "      <th></th>\n",
       "      <th>Overall AQI Value</th>\n",
       "    </tr>\n",
       "  </thead>\n",
       "  <tbody>\n",
       "    <tr>\n",
       "      <th>count</th>\n",
       "      <td>9132.000000</td>\n",
       "    </tr>\n",
       "    <tr>\n",
       "      <th>mean</th>\n",
       "      <td>53.302453</td>\n",
       "    </tr>\n",
       "    <tr>\n",
       "      <th>std</th>\n",
       "      <td>20.260473</td>\n",
       "    </tr>\n",
       "    <tr>\n",
       "      <th>min</th>\n",
       "      <td>2.000000</td>\n",
       "    </tr>\n",
       "    <tr>\n",
       "      <th>25%</th>\n",
       "      <td>40.000000</td>\n",
       "    </tr>\n",
       "    <tr>\n",
       "      <th>50%</th>\n",
       "      <td>52.000000</td>\n",
       "    </tr>\n",
       "    <tr>\n",
       "      <th>75%</th>\n",
       "      <td>62.000000</td>\n",
       "    </tr>\n",
       "    <tr>\n",
       "      <th>max</th>\n",
       "      <td>208.000000</td>\n",
       "    </tr>\n",
       "  </tbody>\n",
       "</table>\n",
       "</div>"
      ],
      "text/plain": [
       "       Overall AQI Value\n",
       "count        9132.000000\n",
       "mean           53.302453\n",
       "std            20.260473\n",
       "min             2.000000\n",
       "25%            40.000000\n",
       "50%            52.000000\n",
       "75%            62.000000\n",
       "max           208.000000"
      ]
     },
     "execution_count": 16,
     "metadata": {},
     "output_type": "execute_result"
    }
   ],
   "source": [
    "combined_df.describe()"
   ]
  },
  {
   "cell_type": "code",
   "execution_count": 22,
   "id": "ea529389-5d3d-4313-9f70-00701f916bab",
   "metadata": {},
   "outputs": [
    {
     "data": {
      "text/plain": [
       "(9132, 11)"
      ]
     },
     "execution_count": 22,
     "metadata": {},
     "output_type": "execute_result"
    }
   ],
   "source": [
    "combined_df.shape"
   ]
  },
  {
   "cell_type": "code",
   "execution_count": 24,
   "id": "a35448c6-9085-45cb-b984-bccef8c33cc0",
   "metadata": {},
   "outputs": [],
   "source": [
    "weather = pd.read_csv('weather.csv')"
   ]
  },
  {
   "cell_type": "code",
   "execution_count": 26,
   "id": "844c695c-c2fe-4b53-94cf-8c78cad412a3",
   "metadata": {},
   "outputs": [
    {
     "data": {
      "text/plain": [
       "(9132, 4)"
      ]
     },
     "execution_count": 26,
     "metadata": {},
     "output_type": "execute_result"
    }
   ],
   "source": [
    "weather.shape"
   ]
  },
  {
   "cell_type": "code",
   "execution_count": 28,
   "id": "9796c9f1-7ecf-4269-bcdb-63986a4cefc5",
   "metadata": {},
   "outputs": [
    {
     "data": {
      "text/html": [
       "<div>\n",
       "<style scoped>\n",
       "    .dataframe tbody tr th:only-of-type {\n",
       "        vertical-align: middle;\n",
       "    }\n",
       "\n",
       "    .dataframe tbody tr th {\n",
       "        vertical-align: top;\n",
       "    }\n",
       "\n",
       "    .dataframe thead th {\n",
       "        text-align: right;\n",
       "    }\n",
       "</style>\n",
       "<table border=\"1\" class=\"dataframe\">\n",
       "  <thead>\n",
       "    <tr style=\"text-align: right;\">\n",
       "      <th></th>\n",
       "      <th>Date</th>\n",
       "      <th>avg_temp</th>\n",
       "      <th>avg_humidity</th>\n",
       "      <th>avg_wind_speed</th>\n",
       "    </tr>\n",
       "  </thead>\n",
       "  <tbody>\n",
       "    <tr>\n",
       "      <th>0</th>\n",
       "      <td>2000-01-01</td>\n",
       "      <td>36.285862</td>\n",
       "      <td>94.413793</td>\n",
       "      <td>5.916207</td>\n",
       "    </tr>\n",
       "    <tr>\n",
       "      <th>1</th>\n",
       "      <td>2000-01-02</td>\n",
       "      <td>43.928077</td>\n",
       "      <td>89.846154</td>\n",
       "      <td>6.356154</td>\n",
       "    </tr>\n",
       "    <tr>\n",
       "      <th>2</th>\n",
       "      <td>2000-01-03</td>\n",
       "      <td>54.990714</td>\n",
       "      <td>86.607143</td>\n",
       "      <td>8.386786</td>\n",
       "    </tr>\n",
       "    <tr>\n",
       "      <th>3</th>\n",
       "      <td>2000-01-04</td>\n",
       "      <td>55.715556</td>\n",
       "      <td>92.148148</td>\n",
       "      <td>10.264074</td>\n",
       "    </tr>\n",
       "    <tr>\n",
       "      <th>4</th>\n",
       "      <td>2000-01-05</td>\n",
       "      <td>41.391923</td>\n",
       "      <td>66.961538</td>\n",
       "      <td>16.294231</td>\n",
       "    </tr>\n",
       "  </tbody>\n",
       "</table>\n",
       "</div>"
      ],
      "text/plain": [
       "         Date   avg_temp  avg_humidity  avg_wind_speed\n",
       "0  2000-01-01  36.285862     94.413793        5.916207\n",
       "1  2000-01-02  43.928077     89.846154        6.356154\n",
       "2  2000-01-03  54.990714     86.607143        8.386786\n",
       "3  2000-01-04  55.715556     92.148148       10.264074\n",
       "4  2000-01-05  41.391923     66.961538       16.294231"
      ]
     },
     "execution_count": 28,
     "metadata": {},
     "output_type": "execute_result"
    }
   ],
   "source": [
    "weather.head()"
   ]
  },
  {
   "cell_type": "code",
   "execution_count": 32,
   "id": "ed4126b5-2890-4551-b8e1-91974f54cd75",
   "metadata": {},
   "outputs": [
    {
     "data": {
      "text/plain": [
       "Date                          datetime64[ns]\n",
       "Overall AQI Value                      int64\n",
       "Main Pollutant                        object\n",
       "Site Name (of Overall AQI)            object\n",
       "Site ID (of Overall AQI)              object\n",
       "Source (of Overall AQI)               object\n",
       "CO                                    object\n",
       "Ozone                                 object\n",
       "PM10                                  object\n",
       "PM25                                  object\n",
       "NO2                                   object\n",
       "dtype: object"
      ]
     },
     "execution_count": 32,
     "metadata": {},
     "output_type": "execute_result"
    }
   ],
   "source": [
    "combined_df.dtypes"
   ]
  },
  {
   "cell_type": "code",
   "execution_count": 34,
   "id": "7b09b482-57cd-4f56-9b1b-2683991319c2",
   "metadata": {},
   "outputs": [
    {
     "data": {
      "text/plain": [
       "Date               object\n",
       "avg_temp          float64\n",
       "avg_humidity      float64\n",
       "avg_wind_speed    float64\n",
       "dtype: object"
      ]
     },
     "execution_count": 34,
     "metadata": {},
     "output_type": "execute_result"
    }
   ],
   "source": [
    "weather.dtypes"
   ]
  },
  {
   "cell_type": "code",
   "execution_count": 40,
   "id": "5ea69e19-1a7e-4b00-8fb5-4f47c4715b34",
   "metadata": {},
   "outputs": [],
   "source": [
    "combined_df['Date'] = pd.to_datetime(combined_df['Date'], format='%Y-%m-%d')\n",
    "weather['Date'] = pd.to_datetime(weather['Date'], format='%Y-%m-%d')"
   ]
  },
  {
   "cell_type": "code",
   "execution_count": 44,
   "id": "9638408f-8fb2-425c-98cc-f32ead6a5346",
   "metadata": {},
   "outputs": [],
   "source": [
    "merged_df = pd.merge(combined_df, weather, on='Date')"
   ]
  },
  {
   "cell_type": "code",
   "execution_count": 9,
   "id": "915593a3-15aa-441d-977b-43b3761ade63",
   "metadata": {},
   "outputs": [],
   "source": [
    "combined_df.to_csv('aqi.csv', index=False)"
   ]
  },
  {
   "cell_type": "code",
   "execution_count": 46,
   "id": "cd31d330-3298-42d6-9609-85458aa04019",
   "metadata": {},
   "outputs": [],
   "source": [
    "merged_df.to_csv('aqi_exo.csv', index=False)"
   ]
  },
  {
   "cell_type": "code",
   "execution_count": 48,
   "id": "1a98b36e-b08c-49d9-9deb-12a6191f85f6",
   "metadata": {},
   "outputs": [
    {
     "data": {
      "text/html": [
       "<div>\n",
       "<style scoped>\n",
       "    .dataframe tbody tr th:only-of-type {\n",
       "        vertical-align: middle;\n",
       "    }\n",
       "\n",
       "    .dataframe tbody tr th {\n",
       "        vertical-align: top;\n",
       "    }\n",
       "\n",
       "    .dataframe thead th {\n",
       "        text-align: right;\n",
       "    }\n",
       "</style>\n",
       "<table border=\"1\" class=\"dataframe\">\n",
       "  <thead>\n",
       "    <tr style=\"text-align: right;\">\n",
       "      <th></th>\n",
       "      <th>Date</th>\n",
       "      <th>Overall AQI Value</th>\n",
       "      <th>Main Pollutant</th>\n",
       "      <th>Site Name (of Overall AQI)</th>\n",
       "      <th>Site ID (of Overall AQI)</th>\n",
       "      <th>Source (of Overall AQI)</th>\n",
       "      <th>CO</th>\n",
       "      <th>Ozone</th>\n",
       "      <th>PM10</th>\n",
       "      <th>PM25</th>\n",
       "      <th>NO2</th>\n",
       "      <th>avg_temp</th>\n",
       "      <th>avg_humidity</th>\n",
       "      <th>avg_wind_speed</th>\n",
       "    </tr>\n",
       "  </thead>\n",
       "  <tbody>\n",
       "    <tr>\n",
       "      <th>0</th>\n",
       "      <td>2000-01-01</td>\n",
       "      <td>116</td>\n",
       "      <td>PM2.5</td>\n",
       "      <td>PS 59</td>\n",
       "      <td>36-061-0056</td>\n",
       "      <td>AQS</td>\n",
       "      <td>27</td>\n",
       "      <td>25</td>\n",
       "      <td>31</td>\n",
       "      <td>116</td>\n",
       "      <td>38</td>\n",
       "      <td>36.285862</td>\n",
       "      <td>94.413793</td>\n",
       "      <td>5.916207</td>\n",
       "    </tr>\n",
       "    <tr>\n",
       "      <th>1</th>\n",
       "      <td>2000-01-02</td>\n",
       "      <td>115</td>\n",
       "      <td>PM2.5</td>\n",
       "      <td>NaN</td>\n",
       "      <td>36-061-0010</td>\n",
       "      <td>AQS</td>\n",
       "      <td>36</td>\n",
       "      <td>38</td>\n",
       "      <td>.</td>\n",
       "      <td>115</td>\n",
       "      <td>54</td>\n",
       "      <td>43.928077</td>\n",
       "      <td>89.846154</td>\n",
       "      <td>6.356154</td>\n",
       "    </tr>\n",
       "    <tr>\n",
       "      <th>2</th>\n",
       "      <td>2000-01-03</td>\n",
       "      <td>91</td>\n",
       "      <td>PM2.5</td>\n",
       "      <td>NaN</td>\n",
       "      <td>36-061-0010</td>\n",
       "      <td>AQS</td>\n",
       "      <td>38</td>\n",
       "      <td>31</td>\n",
       "      <td>.</td>\n",
       "      <td>91</td>\n",
       "      <td>46</td>\n",
       "      <td>54.990714</td>\n",
       "      <td>86.607143</td>\n",
       "      <td>8.386786</td>\n",
       "    </tr>\n",
       "    <tr>\n",
       "      <th>3</th>\n",
       "      <td>2000-01-04</td>\n",
       "      <td>68</td>\n",
       "      <td>PM2.5</td>\n",
       "      <td>PS 59</td>\n",
       "      <td>36-061-0056</td>\n",
       "      <td>AQS</td>\n",
       "      <td>30</td>\n",
       "      <td>31</td>\n",
       "      <td>.</td>\n",
       "      <td>68</td>\n",
       "      <td>42</td>\n",
       "      <td>55.715556</td>\n",
       "      <td>92.148148</td>\n",
       "      <td>10.264074</td>\n",
       "    </tr>\n",
       "    <tr>\n",
       "      <th>4</th>\n",
       "      <td>2000-01-05</td>\n",
       "      <td>43</td>\n",
       "      <td>PM2.5</td>\n",
       "      <td>NaN</td>\n",
       "      <td>36-061-0010</td>\n",
       "      <td>AQS</td>\n",
       "      <td>22</td>\n",
       "      <td>24</td>\n",
       "      <td>.</td>\n",
       "      <td>43</td>\n",
       "      <td>42</td>\n",
       "      <td>41.391923</td>\n",
       "      <td>66.961538</td>\n",
       "      <td>16.294231</td>\n",
       "    </tr>\n",
       "  </tbody>\n",
       "</table>\n",
       "</div>"
      ],
      "text/plain": [
       "        Date  Overall AQI Value Main Pollutant Site Name (of Overall AQI)  \\\n",
       "0 2000-01-01                116          PM2.5                      PS 59   \n",
       "1 2000-01-02                115          PM2.5                        NaN   \n",
       "2 2000-01-03                 91          PM2.5                        NaN   \n",
       "3 2000-01-04                 68          PM2.5                      PS 59   \n",
       "4 2000-01-05                 43          PM2.5                        NaN   \n",
       "\n",
       "  Site ID (of Overall AQI) Source (of Overall AQI)  CO Ozone PM10 PM25 NO2  \\\n",
       "0              36-061-0056                     AQS  27    25   31  116  38   \n",
       "1              36-061-0010                     AQS  36    38    .  115  54   \n",
       "2              36-061-0010                     AQS  38    31    .   91  46   \n",
       "3              36-061-0056                     AQS  30    31    .   68  42   \n",
       "4              36-061-0010                     AQS  22    24    .   43  42   \n",
       "\n",
       "    avg_temp  avg_humidity  avg_wind_speed  \n",
       "0  36.285862     94.413793        5.916207  \n",
       "1  43.928077     89.846154        6.356154  \n",
       "2  54.990714     86.607143        8.386786  \n",
       "3  55.715556     92.148148       10.264074  \n",
       "4  41.391923     66.961538       16.294231  "
      ]
     },
     "execution_count": 48,
     "metadata": {},
     "output_type": "execute_result"
    }
   ],
   "source": [
    "merged_df.head()"
   ]
  },
  {
   "cell_type": "code",
   "execution_count": 50,
   "id": "62fc3f86-58e2-4db7-9fc5-29772dbfe655",
   "metadata": {},
   "outputs": [
    {
     "name": "stdout",
     "output_type": "stream",
     "text": [
      "<class 'pandas.core.frame.DataFrame'>\n",
      "RangeIndex: 9132 entries, 0 to 9131\n",
      "Data columns (total 14 columns):\n",
      " #   Column                      Non-Null Count  Dtype         \n",
      "---  ------                      --------------  -----         \n",
      " 0   Date                        9132 non-null   datetime64[ns]\n",
      " 1   Overall AQI Value           9132 non-null   int64         \n",
      " 2   Main Pollutant              9132 non-null   object        \n",
      " 3   Site Name (of Overall AQI)  8732 non-null   object        \n",
      " 4   Site ID (of Overall AQI)    9132 non-null   object        \n",
      " 5   Source (of Overall AQI)     9132 non-null   object        \n",
      " 6   CO                          9132 non-null   object        \n",
      " 7   Ozone                       7306 non-null   object        \n",
      " 8   PM10                        2922 non-null   object        \n",
      " 9   PM25                        9132 non-null   object        \n",
      " 10  NO2                         3288 non-null   object        \n",
      " 11  avg_temp                    9132 non-null   float64       \n",
      " 12  avg_humidity                9132 non-null   float64       \n",
      " 13  avg_wind_speed              9132 non-null   float64       \n",
      "dtypes: datetime64[ns](1), float64(3), int64(1), object(9)\n",
      "memory usage: 998.9+ KB\n"
     ]
    }
   ],
   "source": [
    "merged_df.info()"
   ]
  },
  {
   "cell_type": "code",
   "execution_count": null,
   "id": "05c23fff-55b2-4da3-9678-25677865b330",
   "metadata": {},
   "outputs": [],
   "source": []
  }
 ],
 "metadata": {
  "kernelspec": {
   "display_name": "Python 3 (ipykernel)",
   "language": "python",
   "name": "python3"
  },
  "language_info": {
   "codemirror_mode": {
    "name": "ipython",
    "version": 3
   },
   "file_extension": ".py",
   "mimetype": "text/x-python",
   "name": "python",
   "nbconvert_exporter": "python",
   "pygments_lexer": "ipython3",
   "version": "3.11.7"
  }
 },
 "nbformat": 4,
 "nbformat_minor": 5
}
